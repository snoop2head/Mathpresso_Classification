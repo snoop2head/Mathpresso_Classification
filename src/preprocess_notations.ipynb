{
 "cells": [
  {
   "cell_type": "code",
   "execution_count": null,
   "source": [
    "# import saved modules\n",
    "from modules.KorEDA.eda import EDA\n",
    "from modules.preprocess_for_kobert import preprocess"
   ],
   "outputs": [],
   "metadata": {}
  },
  {
   "cell_type": "code",
   "execution_count": null,
   "source": [
    "import pandas as pd\n",
    "import numpy as np\n",
    "import re\n",
    "\n",
    "from modules.preprocess_for_kobert import preprocess"
   ],
   "outputs": [],
   "metadata": {}
  },
  {
   "cell_type": "code",
   "execution_count": null,
   "source": [
    "# pandas 설정: 각 column 별 (혹은 한 cell에서) 출력되는 글자수 제한을 없애기\n",
    "pd.set_option('display.max_colwidth', -1)\n",
    "pd.__version__"
   ],
   "outputs": [],
   "metadata": {}
  },
  {
   "cell_type": "markdown",
   "source": [
    "### Bring Dataset"
   ],
   "metadata": {}
  },
  {
   "cell_type": "code",
   "execution_count": null,
   "source": [
    "DATA_PATH = \"./data\""
   ],
   "outputs": [],
   "metadata": {}
  },
  {
   "cell_type": "code",
   "execution_count": null,
   "source": [
    "df_original = pd.read_csv(f\"{DATA_PATH}/몽데이크_Open.csv\", encoding=\"utf-8\")\n",
    "df_original.sample(2)"
   ],
   "outputs": [],
   "metadata": {}
  },
  {
   "cell_type": "code",
   "execution_count": null,
   "source": [
    "df_train = pd.read_csv(f\"{DATA_PATH}/data_preprocessed.csv\", encoding=\"utf-8\")\n",
    "df_train.sample(2)"
   ],
   "outputs": [],
   "metadata": {}
  },
  {
   "cell_type": "code",
   "execution_count": null,
   "source": [
    "df_eval = pd.read_csv(f\"{DATA_PATH}/hidden_for_inference.csv\", encoding=\"utf-8\")\n",
    "df_eval.head(2)"
   ],
   "outputs": [],
   "metadata": {}
  },
  {
   "cell_type": "code",
   "execution_count": null,
   "source": [
    "# Sample tokenizing for notations\n",
    "from kobert_transformers import get_tokenizer\n",
    "tokenizer = get_tokenizer()\n",
    "# tokenizer.tokenize(\"√\")\n",
    "tokenizer.tokenize(\"|\")"
   ],
   "outputs": [],
   "metadata": {}
  },
  {
   "cell_type": "markdown",
   "source": [
    "### P() -> 확률함수()로 바꾸기"
   ],
   "metadata": {}
  },
  {
   "cell_type": "code",
   "execution_count": null,
   "source": [
    "# regex for P(a,b) type shape\n",
    "text = \"좌표평면 위의 원점에서 출발하는 점 `P(x, y)`는 주사위를 던져 `1`, `2`, `3`, `4`의 눈이 나오면 `x`축의 방향으로 `1`만큼, `5`, `6`의 눈이 나오면 `y`축의 방향으로 `1`만큼 움직인다. 주사위를 `20`번 던질 때, 점 `P`의 `x`좌표를 확률변수 `X`라고 하고 점 `P`의 `y`좌표를 확률변수 `Y`라고 할 때, `E(3X)+V(3Y-5)`를 구하면?\"\n",
    "re.findall('P\\([\\w\\+\\-\\(\\)/]{1,10},\\s?[\\w\\+\\-\\(\\)/]{1,10}\\)',text)"
   ],
   "outputs": [],
   "metadata": {}
  },
  {
   "cell_type": "code",
   "execution_count": null,
   "source": [
    "def substitute_probability(text):\n",
    "    if \"다항식\" in text:\n",
    "        return text\n",
    "    if \"식을 `\" in text:\n",
    "        return text\n",
    "    if \"방정식\" in text:\n",
    "        return text\n",
    "    if \"점 `\" in text or \"점을 `\" in text:\n",
    "        return text\n",
    "    if (\n",
    "        \"점\" in text\n",
    "        and re.findall(r\"P\\([\\w\\+\\-\\(\\)/]{1,10},\\s?[\\w\\+\\-\\(\\)/]{1,10}\\)\", text) != []\n",
    "    ):\n",
    "\n",
    "        return text\n",
    "    else:\n",
    "        substituted = re.sub(\"P\\(\", \"확률함수(\", text)\n",
    "        return substituted"
   ],
   "outputs": [],
   "metadata": {}
  },
  {
   "cell_type": "code",
   "execution_count": null,
   "source": [
    "# copy training dataset for preprocessing\n",
    "df_testing = df_train.copy()\n",
    "\n",
    "# apply substitute probability function\n",
    "df_testing[\"text\"] = df_testing[\"text\"].apply(lambda x: substitute_probability(x))\n",
    "\n",
    "# remaining P() that did not go through substitute probability function\n",
    "df_false_positive = df_testing[(df_testing[\"text\"].str.contains(\"P\\(\")) & (df_testing[\"chapter\"].str.startswith(\"HSTA\"))]\n",
    "df_false_positive"
   ],
   "outputs": [],
   "metadata": {}
  },
  {
   "cell_type": "code",
   "execution_count": null,
   "source": [
    "# 잘못된 확률함수()의 대체 예시\n",
    "df_true_negative = df_testing[(df_testing[\"text\"].str.contains(\"확률함수\\(\")) & (~df_testing[\"chapter\"].str.startswith(\"HSTA\"))]\n",
    "df_true_negative[[\"chapter\",\"text\"]]"
   ],
   "outputs": [],
   "metadata": {}
  },
  {
   "cell_type": "code",
   "execution_count": null,
   "source": [
    "# P()에서 몇 개나 확률함수()로 대체됐는지\n",
    "df_true_positive = df_testing[(df_testing[\"text\"].str.contains(\"확률함수\\(\")) & (df_testing[\"chapter\"].str.startswith(\"HSTA\"))]\n",
    "len(df_true_positive)"
   ],
   "outputs": [],
   "metadata": {}
  },
  {
   "cell_type": "markdown",
   "source": [
    "### evaluation dataset에서 작동하는 지 확인"
   ],
   "metadata": {}
  },
  {
   "cell_type": "code",
   "execution_count": null,
   "source": [
    "df_testing = df_eval.copy()\n",
    "df_testing = preprocess(df_testing)\n",
    "df_testing[(df_testing[\"text\"].str.contains(\"확률함수 \\(\"))].head()\n"
   ],
   "outputs": [],
   "metadata": {}
  },
  {
   "cell_type": "code",
   "execution_count": null,
   "source": [
    "df_testing[(df_testing[\"text\"].str.contains(\"P \\(\"))]"
   ],
   "outputs": [],
   "metadata": {}
  },
  {
   "cell_type": "markdown",
   "source": [
    "### E() -> 기댓값()으로 바꾸기"
   ],
   "metadata": {}
  },
  {
   "cell_type": "code",
   "execution_count": null,
   "source": [
    "# reset training dataset for preprocessing\n",
    "df_testing = df_train.copy()\n",
    "\n",
    "# 일괄적으로 바꾸기\n",
    "df_testing[\"text\"] = df_testing[\"text\"].apply(lambda x: re.sub(\"E\\(\", \"기댓값(\", x) if not \"기울기\" in x else x)  # 0개 잘못 분류\n",
    "\n",
    "# 잘못된 E()-> 기댓값() 대체 예시\n",
    "df_true_negative = df_testing[(df_testing[\"text\"].str.contains(\"기댓값\\(\")) & (~df_testing[\"chapter\"].str.startswith(\"HSTA\"))]\n",
    "print(len(df_true_negative))\n",
    "df_true_negative"
   ],
   "outputs": [],
   "metadata": {}
  },
  {
   "cell_type": "code",
   "execution_count": null,
   "source": [
    "# 올바른 E() -> 기댓값() 대체 예시\n",
    "df_true_positive = df_testing[(df_testing[\"text\"].str.contains(\"기댓값\\(\"))]\n",
    "print(len(df_true_positive))\n",
    "df_true_positive.head(2)"
   ],
   "outputs": [],
   "metadata": {}
  },
  {
   "cell_type": "code",
   "execution_count": null,
   "source": [
    "# 아직 안 바뀐 E() 들\n",
    "df_true_negatives = df_testing[(df_testing[\"text\"].str.contains(\"E\\(\"))]\n",
    "print(len(df_true_negatives))\n",
    "df_true_negatives.head(2)"
   ],
   "outputs": [],
   "metadata": {}
  },
  {
   "cell_type": "markdown",
   "source": [
    "## Evaluation Dataset에서도 올바르게 작동하는지 확인"
   ],
   "metadata": {}
  },
  {
   "cell_type": "markdown",
   "source": [
    "### 집합의 조건제시법 |, 조건부확률의 |, 절대값 || 다르게 처리"
   ],
   "metadata": {}
  },
  {
   "cell_type": "code",
   "execution_count": null,
   "source": [
    "def preprocess_pipe(input_text: str) -> dict:\n",
    "    list_fucked_up = []\n",
    "    list_jiphap = []\n",
    "    list_conditional = []\n",
    "    list_absolute = []\n",
    "\n",
    "    list_math_matched = re.findall(r\"(?<=`).*?(?=`)\", input_text)\n",
    "    list_math = [\n",
    "        math for math in list_math_matched if list_math_matched.index(math) % 2 == 0\n",
    "    ]\n",
    "    for item in list_math:\n",
    "        if \"|\" in item and \"{\" in item:\n",
    "            # print(item, \"집합\")\n",
    "            list_jiphap.append(item)\n",
    "        elif \"|\" in item and \"(\" in item and \")\" in item:\n",
    "            # print(\"conditional\")\n",
    "            list_conditional.append(item)\n",
    "        elif item.count(\"|\") >= 2:\n",
    "            list_absolute.append(item)\n",
    "            # print(item, \"absolute_value\")\n",
    "    if len(list_jiphap)*len(list_conditional)*len(list_absolute) !=0:\n",
    "        return \"FUCKED\"\n",
    "    if len(list_jiphap+list_conditional+list_absolute) ==0:\n",
    "        return np.NaN\n",
    "    else: \n",
    "        dict_return = {\"집합\": list_jiphap, \"조건부\":list_conditional, \"절댓값\": list_absolute}\n",
    "        return dict_return\n"
   ],
   "outputs": [],
   "metadata": {}
  },
  {
   "cell_type": "code",
   "execution_count": null,
   "source": [
    "sample_text3 = \"a, b, n, `|a+b|=|a|+|b|`, ab >= 0, a^2+b^2=0, ab=0, ab=0, a=0, b=0, n^2, 3, n, 3\"                                                       \n",
    "preprocess_pipe(sample_text3)"
   ],
   "outputs": [],
   "metadata": {}
  },
  {
   "cell_type": "code",
   "execution_count": null,
   "source": [
    "re.sub(\"\\|\",\"테스트|\",sample_text3)"
   ],
   "outputs": [],
   "metadata": {}
  },
  {
   "cell_type": "code",
   "execution_count": null,
   "source": [
    "df_train[\"pipes\"] = df_train[\"text\"].apply(lambda x: preprocess_pipe(x))"
   ],
   "outputs": [],
   "metadata": {}
  },
  {
   "cell_type": "code",
   "execution_count": null,
   "source": [
    "# 집합, 조건부, 절댓값이 겹치는 경우가 없음.\n",
    "# df_fucked = df_train[df_train[\"pipes\"].str.match(\"FUCKED\")]"
   ],
   "outputs": [],
   "metadata": {}
  },
  {
   "cell_type": "code",
   "execution_count": null,
   "source": [
    "pd.set_option('display.max_rows', 20)\n",
    "df_pipe = df_train[df_train[\"pipes\"].notna()]\n",
    "# df_pipe[0:300]\n",
    "df_pipe = df_pipe.set_index(\"qplay_question_id\")\n",
    "df_pipe.sample(20)"
   ],
   "outputs": [],
   "metadata": {}
  },
  {
   "cell_type": "code",
   "execution_count": null,
   "source": [
    "# def sub_func_replace_pipe(input_text: str) -> str:\n",
    "#     if \"|\" in input_text and \"{\" in input_text:\n",
    "#         input_text = re.sub(\"\\|\", \"조건제시법|\", input_text)\n",
    "#     elif \"|\" in input_text and \"확률함수(\" in input_text and \")\" in input_text:\n",
    "#         if input_text.count(\"|\") % 2 == 0:\n",
    "#             input_text = re.sub(\"\\|\", \"절대값|\", input_text)\n",
    "#         if input_text.count(\"|\") % 2 == 1:\n",
    "#             input_text = re.sub(\"\\|\", \"조건부확률|\", input_text)\n",
    "#     elif input_text.count(\"|\") >= 2:\n",
    "#         input_text = re.sub(\"\\|\", \"절대값|\", input_text)\n",
    "#     else:\n",
    "#         return input_text\n",
    "#     result_text = input_text\n",
    "#     return result_text\n",
    "\n",
    "def sub_func_replace_pipe(input_text: str) -> str:\n",
    "    if \"|\" in input_text and \"{\" in input_text:\n",
    "        input_text = re.sub(\"\\|\", \"조건제시법|\", input_text)\n",
    "    elif \"|\" in input_text and \"확률함수(\" in input_text and \")\" in input_text:\n",
    "        words_broken_down = []\n",
    "        # word_broken_by_bracket = re.findall(r'\\([^)]*\\)', input_text)\n",
    "        word_broken_by_bracket = re.findall('\\[[^\\]]*\\]|\\([^\\)]*\\)|\\\"[^\\\"]*\\\"|\\S+',input_text)\n",
    "        print(word_broken_by_bracket)\n",
    "        for i in word_broken_by_bracket:\n",
    "            print(i)\n",
    "            if i.count(\"|\") % 2 == 0:\n",
    "                i = re.sub(\"\\|\", \"절대값|\", i)\n",
    "                words_broken_down.append(i)\n",
    "            elif i.count(\"|\") % 2 == 1:\n",
    "                i = re.sub(\"\\|\", \"조건부확률|\", i)\n",
    "                words_broken_down.append(i)\n",
    "            else:\n",
    "                words_broken_down.append(i)\n",
    "        input_text = \"\".join(words_broken_down)\n",
    "    elif input_text.count(\"|\") >= 2:\n",
    "        input_text = re.sub(\"\\|\", \"절대값|\", input_text)\n",
    "    else:\n",
    "        return input_text\n",
    "    result_text = input_text\n",
    "    return result_text"
   ],
   "outputs": [],
   "metadata": {}
  },
  {
   "cell_type": "code",
   "execution_count": null,
   "source": [
    "\n",
    "#  if list_math_matched.index(math) % 2 == 0\n",
    "def main_replace_pipe(input_text: str) -> str:\n",
    "    # print(input_text, \"\\n\")\n",
    "\n",
    "    list_to_return = []\n",
    "    # list_separated = re.findall(r'(?<=`).*?(?=`)', input_text)\n",
    "    # list_separated = input_text.split(\"`\")\n",
    "\n",
    "    delimiter = \"`\"\n",
    "    if input_text.startswith(delimiter) == True:\n",
    "        bool_starts_with_delimiter = True\n",
    "    elif input_text.startswith(delimiter) == False:\n",
    "        bool_starts_with_delimiter = False\n",
    "    list_separated = [delimiter + e for e in input_text.split(delimiter) if e]\n",
    "\n",
    "    # print(list_separated, \"\\n\")\n",
    "    for item in list_separated:\n",
    "        if \"|\" in item and \"{\" in item:\n",
    "            item = sub_func_replace_pipe(item)\n",
    "            # item = f\"`{item}`\"\n",
    "            list_to_return.append(item)\n",
    "        elif \"|\" in item and \"확률함수(\" in item and \")\" in item:\n",
    "            item = sub_func_replace_pipe(item)\n",
    "            # item = f\"`{item}`\"\n",
    "            list_to_return.append(item)\n",
    "        elif item.count(\"|\") >= 2:\n",
    "            item = sub_func_replace_pipe(item)\n",
    "            # item = f\"`{item}`\"\n",
    "            list_to_return.append(item)\n",
    "        else:\n",
    "            list_to_return.append(item)\n",
    "    # print(list_to_return, \"\\n\")\n",
    "    str_to_return = \"\".join(list_to_return)\n",
    "    if bool_starts_with_delimiter == True:\n",
    "        return str_to_return\n",
    "    elif bool_starts_with_delimiter == False:\n",
    "        return str_to_return[1:]"
   ],
   "outputs": [],
   "metadata": {}
  },
  {
   "cell_type": "code",
   "execution_count": null,
   "source": [
    "main_replace_pipe(\"정규분포 `N(m, 9)`에 따르는 확률변수 `X`에 대하여 `확률함수(|X| <= 63)=0.6826`일 때, 상수 `m`의 값은?\")"
   ],
   "outputs": [],
   "metadata": {}
  },
  {
   "cell_type": "code",
   "execution_count": null,
   "source": [
    "import random\n",
    "\n",
    "rand_int = random.randrange(0, 101)\n",
    "sample_text = df_pipe[\"text\"].iloc[rand_int]\n",
    "print(main_replace_pipe(sample_text))"
   ],
   "outputs": [],
   "metadata": {}
  },
  {
   "cell_type": "code",
   "execution_count": null,
   "source": [
    "df_test_pipe = preprocess(df_original, korean=True, space=True, condition=True)\n",
    "df_test_pipe = df_test_pipe.set_index(\"qplay_question_id\")\n",
    "df_test_pipe.sample(2)"
   ],
   "outputs": [],
   "metadata": {}
  },
  {
   "cell_type": "code",
   "execution_count": null,
   "source": [
    "df_test_pipe_lookup = df_test_pipe.loc[df_pipe.index]\n",
    "print(df_test_pipe_lookup.shape)\n",
    "df_test_pipe_lookup.sample(15)"
   ],
   "outputs": [],
   "metadata": {}
  },
  {
   "cell_type": "code",
   "execution_count": null,
   "source": [
    "df_test_pipe_lookup[df_test_pipe_lookup[\"qtid\"].str.startswith(\"HSTA\")].sample(20)"
   ],
   "outputs": [],
   "metadata": {}
  },
  {
   "cell_type": "code",
   "execution_count": null,
   "source": [
    "df_train.loc[df_train[\"qplay_question_id\"] == 9727][[\"text\"]]"
   ],
   "outputs": [],
   "metadata": {}
  },
  {
   "cell_type": "code",
   "execution_count": null,
   "source": [
    "df_train.loc[df_train[\"qplay_question_id\"] == 9318][[\"text\"]]"
   ],
   "outputs": [],
   "metadata": {}
  },
  {
   "cell_type": "code",
   "execution_count": null,
   "source": [
    "df_test_pipe_lookup.loc[9318][[\"text\"]]"
   ],
   "outputs": [],
   "metadata": {}
  },
  {
   "cell_type": "code",
   "execution_count": null,
   "source": [
    "df_train.loc[df_train[\"qplay_question_id\"] == 9146][[\"text\"]]"
   ],
   "outputs": [],
   "metadata": {}
  },
  {
   "cell_type": "code",
   "execution_count": null,
   "source": [
    "df_test_pipe.loc[9146][[\"text\"]]"
   ],
   "outputs": [],
   "metadata": {}
  },
  {
   "cell_type": "code",
   "execution_count": null,
   "source": [
    "problem_text = \"정규분포 `N(m ,4^2)`을 따르는 모집단에서 임의추출한 크기가 `64`인 표본의 표본평균이 `32`일 때, 모평균 `m`의 신뢰도 `95%`의 신뢰구간은? (단, `확률함수(|Z| <= 2)=0.95`)\"\n",
    "main_replace_pipe(problem_text)"
   ],
   "outputs": [],
   "metadata": {}
  },
  {
   "cell_type": "code",
   "execution_count": null,
   "source": [],
   "outputs": [],
   "metadata": {}
  },
  {
   "cell_type": "code",
   "execution_count": null,
   "source": [],
   "outputs": [],
   "metadata": {}
  },
  {
   "cell_type": "code",
   "execution_count": null,
   "source": [],
   "outputs": [],
   "metadata": {}
  },
  {
   "cell_type": "code",
   "execution_count": null,
   "source": [
    "df_eval_test_pipe = preprocess(df_eval, korean=True, space=True, condition=True)"
   ],
   "outputs": [],
   "metadata": {}
  }
 ],
 "metadata": {
  "kernelspec": {
   "name": "python3",
   "display_name": "Python 3.8.3 64-bit ('math_nlp')",
   "metadata": {
    "interpreter": {
     "hash": "b0342785599f483fbf2673039d90c9d8e5c499f0db3bc16fe29e86731d39d362"
    }
   }
  },
  "language_info": {
   "codemirror_mode": {
    "name": "ipython",
    "version": 3
   },
   "file_extension": ".py",
   "mimetype": "text/x-python",
   "name": "python",
   "nbconvert_exporter": "python",
   "pygments_lexer": "ipython3",
   "version": "3.8.3-final"
  }
 },
 "nbformat": 4,
 "nbformat_minor": 4
}